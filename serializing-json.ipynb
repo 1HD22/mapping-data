{
 "cells": [
  {
   "cell_type": "markdown",
   "source": [
    "Work with JSON files, Python, and Python dictionaries, to load, alter, and then save data back to disk in this notebook"
   ],
   "metadata": {}
  },
  {
   "cell_type": "markdown",
   "source": [
    "## Serialize JSON from Python\n",
    "You can serialize to and from JSON in Python using the `json` module"
   ],
   "metadata": {}
  },
  {
   "cell_type": "code",
   "execution_count": 4,
   "source": [
    "# the JSON module can take certain Python data structures like dictionaries and convert them to JSON\n",
    "import json"
   ],
   "outputs": [],
   "metadata": {}
  },
  {
   "cell_type": "markdown",
   "source": [
    "From Python, convert a dictionary into a JSON string"
   ],
   "metadata": {}
  },
  {
   "cell_type": "code",
   "execution_count": null,
   "source": [
    "data = {\"grape\": \"Cabernet Franc\", \"species\": \"Vitis vinifera\", \"origin\": \"Bordeaux, France\"}"
   ],
   "outputs": [],
   "metadata": {}
  },
  {
   "cell_type": "code",
   "execution_count": null,
   "source": [
    "# Convert Python data to JSON. The `.dumps()` method takes a data structure as input and provides a JSON string as output\n",
    "# mnemonic: dumps -> DUMP to String\n",
    "json.dumps(data)"
   ],
   "outputs": [],
   "metadata": {}
  },
  {
   "cell_type": "code",
   "execution_count": null,
   "source": [
    "# Convert a JSON string into a Python data structure\n",
    "# first, define the json data with the string data\n",
    "json_data = json.dumps(data)\n",
    "json_data"
   ],
   "outputs": [],
   "metadata": {}
  },
  {
   "cell_type": "code",
   "execution_count": null,
   "source": [
    "# Now load it into Python\n",
    "# mnemonic: loads -> LOAD from String\n",
    "json.loads(json_data)"
   ],
   "outputs": [],
   "metadata": {}
  },
  {
   "cell_type": "code",
   "execution_count": null,
   "source": [
    "# Python dictionaries are not the only data structure allowed. Use lists as well\n",
    "collection = [data, data]\n",
    "print(collection)\n",
    "# may look similar in the output, but the difference is that JSON is now a string\n",
    "json.dumps(collection)"
   ],
   "outputs": [],
   "metadata": {}
  },
  {
   "cell_type": "markdown",
   "source": [
    "## JSON Formatting\n",
    "\n",
    "The `json` module in Python allows more than just loading and parsing JSON. It can be used to format it nicely. Formatting is crucial when dealing with nested data (a dictionary within a dictionary for example). \n",
    "\n",
    "It is common for HTTP APIs and JSON files to present JSON as a single line. In this section, you will use formatting options in the JSON module to improve the readability of nested information in JSON."
   ],
   "metadata": {}
  },
  {
   "cell_type": "code",
   "execution_count": 15,
   "source": [
    "# define a nested data structure in a single line\n",
    "grape_data = {\"name\": \"Cabernet France\", \"regions\": [{\"country\": \"France\", \"sub-regions\": [\"Bordeaux\", \"Loire Valley\"]},{\"country\": \"Italy\", \"sub-regions\": [\"Apulia\", \"Tuscany\"]}, {\"country\": \"Argentina\", \"sub-regions\": [\"Mendoza\", \"Lujan de Cuyo\", \"Salta\"]}]} \n",
    "# Serialize the Python dictionary to a JSON string, but using extra formatting options, like sorted keys\n",
    "# and using 4 spaces for indentation\n",
    "data_as_json = json.dumps(grape_data, sort_keys=True, indent=4)\n",
    "print(data_as_json)"
   ],
   "outputs": [
    {
     "output_type": "stream",
     "name": "stdout",
     "text": [
      "{\n",
      "    \"name\": \"Cabernet France\",\n",
      "    \"regions\": [\n",
      "        {\n",
      "            \"country\": \"France\",\n",
      "            \"sub-regions\": [\n",
      "                \"Bordeaux\",\n",
      "                \"Loire Valley\"\n",
      "            ]\n",
      "        },\n",
      "        {\n",
      "            \"country\": \"Italy\",\n",
      "            \"sub-regions\": [\n",
      "                \"Apulia\",\n",
      "                \"Tuscany\"\n",
      "            ]\n",
      "        },\n",
      "        {\n",
      "            \"country\": \"Argentina\",\n",
      "            \"sub-regions\": [\n",
      "                \"Mendoza\",\n",
      "                \"Lujan de Cuyo\",\n",
      "                \"Salta\"\n",
      "            ]\n",
      "        }\n",
      "    ]\n",
      "}\n"
     ]
    }
   ],
   "metadata": {}
  },
  {
   "cell_type": "code",
   "execution_count": 16,
   "source": [
    "# Try other variations like indenting 2 spaces and not sorting keys:\n",
    "data_as_json = json.dumps(grape_data, sort_keys=False, indent=2)\n",
    "print(data_as_json)"
   ],
   "outputs": [
    {
     "output_type": "stream",
     "name": "stdout",
     "text": [
      "{\n",
      "  \"name\": \"Cabernet France\",\n",
      "  \"regions\": [\n",
      "    {\n",
      "      \"country\": \"France\",\n",
      "      \"sub-regions\": [\n",
      "        \"Bordeaux\",\n",
      "        \"Loire Valley\"\n",
      "      ]\n",
      "    },\n",
      "    {\n",
      "      \"country\": \"Italy\",\n",
      "      \"sub-regions\": [\n",
      "        \"Apulia\",\n",
      "        \"Tuscany\"\n",
      "      ]\n",
      "    },\n",
      "    {\n",
      "      \"country\": \"Argentina\",\n",
      "      \"sub-regions\": [\n",
      "        \"Mendoza\",\n",
      "        \"Lujan de Cuyo\",\n",
      "        \"Salta\"\n",
      "      ]\n",
      "    }\n",
      "  ]\n",
      "}\n"
     ]
    }
   ],
   "metadata": {}
  },
  {
   "cell_type": "markdown",
   "source": [
    "## Serialize JSON from a file\n",
    "Python can read JSON files and load them as Python data structures, which can also be saved back to the file system as a valid JSON file. In the next few cells, read a JSON file from the file system, and then use the `json` module to parse the JSON and load it into Python.\n",
    "\n",
    "The process of reading a foreign format like JSON and loading it into Python is called serializing it."
   ],
   "metadata": {}
  },
  {
   "cell_type": "code",
   "execution_count": null,
   "source": [
    "# There are JSON files in the `sample_data/` directory. When working with paths, always ensure these paths are reachable and correct\n",
    "import os\n",
    "os.path.exists('sample_data/wine-ratings.json')"
   ],
   "outputs": [],
   "metadata": {}
  },
  {
   "cell_type": "code",
   "execution_count": null,
   "source": [
    "# read the JSON file and then parse it using the `.load()` method\n",
    "# note the subtle difference, this is the `.load()` method (no 's'), not `.loads()`\n",
    "with open('sample_data/wine-ratings.json') as f:\n",
    "    loaded_json = json.load(f)\n",
    "print(loaded_json.keys())\n",
    "print(f\"Number of items: {len(loaded_json['name'])}\")"
   ],
   "outputs": [],
   "metadata": {}
  },
  {
   "cell_type": "markdown",
   "source": [
    "## Serialize from Python to a JSON file\n",
    "\n",
    "Now that you've loaded JSON from a file into Python, do some data sampling, extract some interesting fields and then save the newly manipulated data to a file on disk as JSON."
   ],
   "metadata": {}
  },
  {
   "cell_type": "code",
   "execution_count": null,
   "source": [
    "# sample some items from the json file and then save it as a new file\n",
    "names = loaded_json['name']\n",
    "len(names)\n"
   ],
   "outputs": [],
   "metadata": {}
  },
  {
   "cell_type": "code",
   "execution_count": null,
   "source": [
    "# these names are using an index, like {\"0\": \"Some Name and Year\"}. Update the data to use a list of only the names\n",
    "names_only = list(names.values())\n",
    "names_only"
   ],
   "outputs": [],
   "metadata": {}
  },
  {
   "cell_type": "code",
   "execution_count": null,
   "source": [
    "# now use the `.dump()` JSON method (note no 's'!) to save it to a new JSON file\n",
    "with open('sample_data/wine_names.json', 'w') as f:\n",
    "    json.dump(names_only, f)"
   ],
   "outputs": [],
   "metadata": {}
  }
 ],
 "metadata": {
  "orig_nbformat": 4,
  "language_info": {
   "name": "python",
   "version": "3.8.10",
   "mimetype": "text/x-python",
   "codemirror_mode": {
    "name": "ipython",
    "version": 3
   },
   "pygments_lexer": "ipython3",
   "nbconvert_exporter": "python",
   "file_extension": ".py"
  },
  "kernelspec": {
   "name": "python3",
   "display_name": "Python 3.8.10 64-bit ('tmp': conda)"
  },
  "interpreter": {
   "hash": "904aaa8d64bef68f2ffda03272599bba12aa237240eb8594526423b3c4f1b9a0"
  }
 },
 "nbformat": 4,
 "nbformat_minor": 2
}